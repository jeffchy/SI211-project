{
 "cells": [
  {
   "cell_type": "code",
   "execution_count": 12,
   "metadata": {},
   "outputs": [],
   "source": [
    "import numpy as np\n",
    "import torch\n",
    "import mnist_reader\n",
    "import matplotlib.pyplot as plt"
   ]
  },
  {
   "cell_type": "code",
   "execution_count": 28,
   "metadata": {},
   "outputs": [],
   "source": [
    "%matplotlib inline\n",
    "plt.rcParams['figure.figsize'] = (10.0, 8.0) # set default size of plots"
   ]
  },
  {
   "cell_type": "code",
   "execution_count": 13,
   "metadata": {},
   "outputs": [
    {
     "name": "stdout",
     "output_type": "stream",
     "text": [
      "X_train: (60000, 784)\n",
      "y_train: (60000,)\n",
      "X_test: (10000, 784)\n",
      "y_test: (10000,)\n"
     ]
    }
   ],
   "source": [
    "X_train, y_train = mnist_reader.load_mnist('data/fashion', kind='train')\n",
    "X_test, y_test = mnist_reader.load_mnist('data/fashion', kind='t10k')\n",
    "print('X_train:', X_train.shape)\n",
    "print('y_train:', y_train.shape)\n",
    "print('X_test:', X_test.shape)\n",
    "print('y_test:', y_test.shape)"
   ]
  },
  {
   "cell_type": "code",
   "execution_count": 25,
   "metadata": {},
   "outputs": [],
   "source": [
    "labels = ['T-shirt/top','Trouser','Pullover','Dress','Coat','Sandal','Shirt','Sneaker','Bag','Ankle boot']"
   ]
  },
  {
   "cell_type": "code",
   "execution_count": 68,
   "metadata": {},
   "outputs": [],
   "source": [
    "def visualize_sample():\n",
    "    idx = 1\n",
    "    for i in np.random.choice(60000, 10):\n",
    "        img = X_train[i].reshape(28,28)\n",
    "        cls_idx = y_train[i]\n",
    "        plt.subplot(1, 10, idx)\n",
    "        plt.imshow(img)\n",
    "        plt.axis('off')\n",
    "        plt.title(labels[cls_idx])\n",
    "        idx += 1\n",
    "    plt.imshow(img)\n",
    "    \n",
    "def visualize_idx(idx, X, y):\n",
    "    img = X[idx].reshape(28,28)\n",
    "    cls_idx = y[idx]\n",
    "    plt.imshow(img)\n",
    "    plt.title(labels[cls_idx])\n",
    "    plt.imshow(img)"
   ]
  },
  {
   "cell_type": "code",
   "execution_count": 37,
   "metadata": {},
   "outputs": [
    {
     "data": {
      "image/png": "[encoded data removed]",
      "text/plain": [
       "<Figure size 720x576 with 10 Axes>"
      ]
     },
     "metadata": {},
     "output_type": "display_data"
    }
   ],
   "source": [
    "visualize_sample()"
   ]
  },
  {
   "cell_type": "code",
   "execution_count": 43,
   "metadata": {},
   "outputs": [],
   "source": [
    "def train_val_split(X_train, y_train, val_size=0.05):\n",
    "    # split train set into train and val set. split proportion will be according to val_size\n",
    "\n",
    "    num_examples = len(y_train)\n",
    "    val_indexes = np.random.choice(num_examples, int(num_examples * val_size), replace=False)\n",
    "\n",
    "    X_val = X_train[val_indexes]\n",
    "    y_val = y_train[val_indexes]\n",
    "\n",
    "    # now get the remain indexes for train set\n",
    "    mask = np.ones(num_examples, dtype=bool)\n",
    "    mask[val_indexes] = False\n",
    "\n",
    "    X_train = X_train[mask]\n",
    "    y_train = y_train[mask]\n",
    "\n",
    "    return X_train, X_val, y_train, y_val"
   ]
  },
  {
   "cell_type": "code",
   "execution_count": 44,
   "metadata": {},
   "outputs": [],
   "source": [
    " X_train, X_val, y_train, y_val = train_val_split(X_train, y_train)"
   ]
  },
  {
   "cell_type": "code",
   "execution_count": 81,
   "metadata": {},
   "outputs": [
    {
     "name": "stdout",
     "output_type": "stream",
     "text": [
      "X_train: (57000, 784)\n",
      "y_train: (57000,)\n",
      "X_valid: (3000, 784)\n",
      "y_valid: (3000,)\n",
      "X_test: (10000, 784)\n",
      "y_test: (10000,)\n"
     ]
    }
   ],
   "source": [
    "print('X_train:', X_train.shape)\n",
    "print('y_train:', y_train.shape)\n",
    "print('X_valid:', X_val.shape)\n",
    "print('y_valid:', y_val.shape)\n",
    "print('X_test:', X_test.shape)\n",
    "print('y_test:', y_test.shape)"
   ]
  },
  {
   "cell_type": "code",
   "execution_count": 82,
   "metadata": {},
   "outputs": [
    {
     "data": {
      "image/png": "[encoded data removed]",
      "text/plain": [
       "<Figure size 720x576 with 1 Axes>"
      ]
     },
     "metadata": {},
     "output_type": "display_data"
    }
   ],
   "source": [
    "visualize_idx(16, X_train, y_train)"
   ]
  },
  {
   "cell_type": "code",
   "execution_count": 83,
   "metadata": {},
   "outputs": [],
   "source": [
    "def data_loader(X, y):\n",
    "    assert X.shape[0] == len(y)\n",
    "    for i in range(len(y)):\n",
    "        yield X[i], y[i]"
   ]
  },
  {
   "cell_type": "code",
   "execution_count": 75,
   "metadata": {},
   "outputs": [],
   "source": [
    "train_loader = data_loader(X_train, y_train)"
   ]
  },
  {
   "cell_type": "code",
   "execution_count": 86,
   "metadata": {},
   "outputs": [],
   "source": [
    "# create new dataset\n",
    "subset_idx = 1\n",
    "mask = (y_train == subset_idx)\n",
    "y_train_subset = np.zeros_like(y_train)\n",
    "y_train_subset[mask] = 1\n",
    "mask = (y_val == subset_idx)\n",
    "y_val_subset = np.zeros_like(y_val)\n",
    "y_val_subset[mask] = 1\n",
    "mask = (y_test == subset_idx)\n",
    "y_test_subset = np.zeros_like(y_test)\n",
    "y_test_subset[mask] = 1\n",
    "\n",
    "W = np.random.random((784,1))"
   ]
  },
  {
   "cell_type": "code",
   "execution_count": null,
   "metadata": {},
   "outputs": [],
   "source": []
  }
 ],
 "metadata": {
  "kernelspec": {
   "display_name": "Python 3",
   "language": "python",
   "name": "python3"
  },
  "language_info": {
   "codemirror_mode": {
    "name": "ipython",
    "version": 3
   },
   "file_extension": ".py",
   "mimetype": "text/x-python",
   "name": "python",
   "nbconvert_exporter": "python",
   "pygments_lexer": "ipython3",
   "version": "3.6.5"
  }
 },
 "nbformat": 4,
 "nbformat_minor": 1
}
