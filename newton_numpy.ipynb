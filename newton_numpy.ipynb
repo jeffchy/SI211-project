{
 "cells": [
  {
   "cell_type": "code",
   "execution_count": 1,
   "metadata": {
    "collapsed": true
   },
   "outputs": [],
   "source": [
    "import numpy as np\n",
    "import torch\n",
    "import mnist_reader\n",
    "import matplotlib.pyplot as plt\n",
    "from scipy.special import expit\n",
    "from numpy.linalg import inv, pinv"
   ]
  },
  {
   "cell_type": "code",
   "execution_count": 3,
   "metadata": {},
   "outputs": [
    {
     "ename": "IOError",
     "evalue": "[Errno 2] No such file or directory: 'data/fashion/train-labels-idx1-ubyte.gz'",
     "output_type": "error",
     "traceback": [
      "\u001b[0;31m---------------------------------------------------------------------------\u001b[0m",
      "\u001b[0;31mIOError\u001b[0m                                   Traceback (most recent call last)",
      "\u001b[0;32m<ipython-input-3-fa8ef12e36a8>\u001b[0m in \u001b[0;36m<module>\u001b[0;34m()\u001b[0m\n\u001b[0;32m----> 1\u001b[0;31m \u001b[0mX_train\u001b[0m\u001b[0;34m,\u001b[0m \u001b[0my_train\u001b[0m \u001b[0;34m=\u001b[0m \u001b[0mmnist_reader\u001b[0m\u001b[0;34m.\u001b[0m\u001b[0mload_mnist\u001b[0m\u001b[0;34m(\u001b[0m\u001b[0;34m'data/fashion'\u001b[0m\u001b[0;34m,\u001b[0m \u001b[0mkind\u001b[0m\u001b[0;34m=\u001b[0m\u001b[0;34m'train'\u001b[0m\u001b[0;34m)\u001b[0m\u001b[0;34m\u001b[0m\u001b[0m\n\u001b[0m\u001b[1;32m      2\u001b[0m \u001b[0mX_test\u001b[0m\u001b[0;34m,\u001b[0m \u001b[0my_test\u001b[0m \u001b[0;34m=\u001b[0m \u001b[0mmnist_reader\u001b[0m\u001b[0;34m.\u001b[0m\u001b[0mload_mnist\u001b[0m\u001b[0;34m(\u001b[0m\u001b[0;34m'data/fashion'\u001b[0m\u001b[0;34m,\u001b[0m \u001b[0mkind\u001b[0m\u001b[0;34m=\u001b[0m\u001b[0;34m't10k'\u001b[0m\u001b[0;34m)\u001b[0m\u001b[0;34m\u001b[0m\u001b[0m\n\u001b[1;32m      3\u001b[0m \u001b[0mX_train\u001b[0m \u001b[0;34m=\u001b[0m \u001b[0mX_train\u001b[0m\u001b[0;34m/\u001b[0m\u001b[0;36m255\u001b[0m\u001b[0;34m\u001b[0m\u001b[0m\n\u001b[1;32m      4\u001b[0m \u001b[0mX_test\u001b[0m \u001b[0;34m=\u001b[0m \u001b[0mX_test\u001b[0m\u001b[0;34m/\u001b[0m\u001b[0;36m255\u001b[0m\u001b[0;34m\u001b[0m\u001b[0m\n\u001b[1;32m      5\u001b[0m \u001b[0;32mprint\u001b[0m\u001b[0;34m(\u001b[0m\u001b[0;34m'X_train:'\u001b[0m\u001b[0;34m,\u001b[0m \u001b[0mX_train\u001b[0m\u001b[0;34m.\u001b[0m\u001b[0mshape\u001b[0m\u001b[0;34m)\u001b[0m\u001b[0;34m\u001b[0m\u001b[0m\n",
      "\u001b[0;32m/Users/apple/Desktop/SI211-project/mnist_reader.py\u001b[0m in \u001b[0;36mload_mnist\u001b[0;34m(path, kind)\u001b[0m\n\u001b[1;32m     12\u001b[0m                                % kind)\n\u001b[1;32m     13\u001b[0m \u001b[0;34m\u001b[0m\u001b[0m\n\u001b[0;32m---> 14\u001b[0;31m     \u001b[0;32mwith\u001b[0m \u001b[0mgzip\u001b[0m\u001b[0;34m.\u001b[0m\u001b[0mopen\u001b[0m\u001b[0;34m(\u001b[0m\u001b[0mlabels_path\u001b[0m\u001b[0;34m,\u001b[0m \u001b[0;34m'rb'\u001b[0m\u001b[0;34m)\u001b[0m \u001b[0;32mas\u001b[0m \u001b[0mlbpath\u001b[0m\u001b[0;34m:\u001b[0m\u001b[0;34m\u001b[0m\u001b[0m\n\u001b[0m\u001b[1;32m     15\u001b[0m         labels = np.frombuffer(lbpath.read(), dtype=np.uint8,\n\u001b[1;32m     16\u001b[0m                                offset=8)\n",
      "\u001b[0;32m/usr/local/Cellar/python/2.7.13/Frameworks/Python.framework/Versions/2.7/lib/python2.7/gzip.pyc\u001b[0m in \u001b[0;36mopen\u001b[0;34m(filename, mode, compresslevel)\u001b[0m\n\u001b[1;32m     32\u001b[0m \u001b[0;34m\u001b[0m\u001b[0m\n\u001b[1;32m     33\u001b[0m     \"\"\"\n\u001b[0;32m---> 34\u001b[0;31m     \u001b[0;32mreturn\u001b[0m \u001b[0mGzipFile\u001b[0m\u001b[0;34m(\u001b[0m\u001b[0mfilename\u001b[0m\u001b[0;34m,\u001b[0m \u001b[0mmode\u001b[0m\u001b[0;34m,\u001b[0m \u001b[0mcompresslevel\u001b[0m\u001b[0;34m)\u001b[0m\u001b[0;34m\u001b[0m\u001b[0m\n\u001b[0m\u001b[1;32m     35\u001b[0m \u001b[0;34m\u001b[0m\u001b[0m\n\u001b[1;32m     36\u001b[0m \u001b[0;32mclass\u001b[0m \u001b[0mGzipFile\u001b[0m\u001b[0;34m(\u001b[0m\u001b[0mio\u001b[0m\u001b[0;34m.\u001b[0m\u001b[0mBufferedIOBase\u001b[0m\u001b[0;34m)\u001b[0m\u001b[0;34m:\u001b[0m\u001b[0;34m\u001b[0m\u001b[0m\n",
      "\u001b[0;32m/usr/local/Cellar/python/2.7.13/Frameworks/Python.framework/Versions/2.7/lib/python2.7/gzip.pyc\u001b[0m in \u001b[0;36m__init__\u001b[0;34m(self, filename, mode, compresslevel, fileobj, mtime)\u001b[0m\n\u001b[1;32m     92\u001b[0m             \u001b[0mmode\u001b[0m \u001b[0;34m+=\u001b[0m \u001b[0;34m'b'\u001b[0m\u001b[0;34m\u001b[0m\u001b[0m\n\u001b[1;32m     93\u001b[0m         \u001b[0;32mif\u001b[0m \u001b[0mfileobj\u001b[0m \u001b[0;32mis\u001b[0m \u001b[0mNone\u001b[0m\u001b[0;34m:\u001b[0m\u001b[0;34m\u001b[0m\u001b[0m\n\u001b[0;32m---> 94\u001b[0;31m             \u001b[0mfileobj\u001b[0m \u001b[0;34m=\u001b[0m \u001b[0mself\u001b[0m\u001b[0;34m.\u001b[0m\u001b[0mmyfileobj\u001b[0m \u001b[0;34m=\u001b[0m \u001b[0m__builtin__\u001b[0m\u001b[0;34m.\u001b[0m\u001b[0mopen\u001b[0m\u001b[0;34m(\u001b[0m\u001b[0mfilename\u001b[0m\u001b[0;34m,\u001b[0m \u001b[0mmode\u001b[0m \u001b[0;32mor\u001b[0m \u001b[0;34m'rb'\u001b[0m\u001b[0;34m)\u001b[0m\u001b[0;34m\u001b[0m\u001b[0m\n\u001b[0m\u001b[1;32m     95\u001b[0m         \u001b[0;32mif\u001b[0m \u001b[0mfilename\u001b[0m \u001b[0;32mis\u001b[0m \u001b[0mNone\u001b[0m\u001b[0;34m:\u001b[0m\u001b[0;34m\u001b[0m\u001b[0m\n\u001b[1;32m     96\u001b[0m             \u001b[0;31m# Issue #13781: os.fdopen() creates a fileobj with a bogus name\u001b[0m\u001b[0;34m\u001b[0m\u001b[0;34m\u001b[0m\u001b[0m\n",
      "\u001b[0;31mIOError\u001b[0m: [Errno 2] No such file or directory: 'data/fashion/train-labels-idx1-ubyte.gz'"
     ]
    }
   ],
   "source": [
    "X_train, y_train = mnist_reader.load_mnist('data/fashion', kind='train')\n",
    "X_test, y_test = mnist_reader.load_mnist('data/fashion', kind='t10k')\n",
    "print X_train, y_train\n",
    "X_train = X_train/255\n",
    "X_test = X_test/255\n",
    "print('X_train:', X_train.shape)\n",
    "print('y_train:', y_train.shape)\n",
    "print('X_test:', X_test.shape)\n",
    "print('y_test:', y_test.shape)\n",
    "# pad the image for the bias\n",
    "X_train = np.hstack((X_train, np.ones((X_train.shape[0], 1))))\n",
    "X_test = np.hstack((X_test, np.ones((X_test.shape[0], 1))))\n",
    "print('X_train padded:', X_train.shape)\n",
    "print('X_test padded:', X_test.shape)"
   ]
  },
  {
   "cell_type": "code",
   "execution_count": 4,
   "metadata": {
    "collapsed": true
   },
   "outputs": [],
   "source": [
    "labels = ['T-shirt/top','Trouser','Pullover','Dress','Coat','Sandal','Shirt','Sneaker','Bag','Ankle boot']"
   ]
  },
  {
   "cell_type": "code",
   "execution_count": 5,
   "metadata": {
    "collapsed": true
   },
   "outputs": [],
   "source": [
    "def visualize_sample():\n",
    "    idx = 1\n",
    "    for i in np.random.choice(60000, 10):\n",
    "        img = X_train[i][:784].reshape(28,28)\n",
    "        cls_idx = y_train[i]\n",
    "        plt.subplot(1, 10, idx)\n",
    "        plt.imshow(img)\n",
    "        plt.axis('off')\n",
    "        plt.title(labels[cls_idx])\n",
    "        idx += 1\n",
    "    plt.imshow(img)\n",
    "    \n",
    "def visualize_idx(idx, X, y):\n",
    "    img = X[idx][:784].reshape(28,28)\n",
    "    cls_idx = y[idx]\n",
    "    plt.imshow(img)\n",
    "    plt.title(labels[cls_idx])\n",
    "    plt.imshow(img)"
   ]
  },
  {
   "cell_type": "code",
   "execution_count": 6,
   "metadata": {},
   "outputs": [
    {
     "data": {
      "image/png": "[encoded data removed]",
      "text/plain": [
       "<Figure size 720x576 with 10 Axes>"
      ]
     },
     "metadata": {},
     "output_type": "display_data"
    }
   ],
   "source": [
    "visualize_sample()"
   ]
  },
  {
   "cell_type": "code",
   "execution_count": 7,
   "metadata": {
    "collapsed": true
   },
   "outputs": [],
   "source": [
    "def train_val_split(X_train, y_train, val_size=0.05):\n",
    "    # split train set into train and val set. split proportion will be according to val_size\n",
    "\n",
    "    num_examples = len(y_train)\n",
    "    val_indexes = np.random.choice(num_examples, int(num_examples * val_size), replace=False)\n",
    "\n",
    "    X_val = X_train[val_indexes]\n",
    "    y_val = y_train[val_indexes]\n",
    "\n",
    "    # now get the remain indexes for train set\n",
    "    mask = np.ones(num_examples, dtype=bool)\n",
    "    mask[val_indexes] = False\n",
    "\n",
    "    X_train = X_train[mask]\n",
    "    y_train = y_train[mask]\n",
    "\n",
    "    return X_train, X_val, y_train, y_val"
   ]
  },
  {
   "cell_type": "code",
   "execution_count": 8,
   "metadata": {
    "collapsed": true
   },
   "outputs": [],
   "source": [
    "#  X_train, X_val, y_train, y_val = train_val_split(X_train, y_train)"
   ]
  },
  {
   "cell_type": "code",
   "execution_count": 9,
   "metadata": {
    "collapsed": true
   },
   "outputs": [],
   "source": [
    "# print('X_train:', X_train.shape)\n",
    "# print('y_train:', y_train.shape)\n",
    "# print('X_valid:', X_val.shape)\n",
    "# print('y_valid:', y_val.shape)\n",
    "# print('X_test:', X_test.shape)\n",
    "# print('y_test:', y_test.shape)"
   ]
  },
  {
   "cell_type": "code",
   "execution_count": 10,
   "metadata": {},
   "outputs": [
    {
     "data": {
      "image/png": "[encoded data removed]",
      "text/plain": [
       "<Figure size 720x576 with 1 Axes>"
      ]
     },
     "metadata": {},
     "output_type": "display_data"
    }
   ],
   "source": [
    "visualize_idx(16, X_train, y_train)"
   ]
  },
  {
   "cell_type": "code",
   "execution_count": 11,
   "metadata": {
    "collapsed": true
   },
   "outputs": [],
   "source": [
    "def data_loader(X, y, batch_size=100):\n",
    "    assert X.shape[0] == len(y)\n",
    "    for i in range(int(len(y)/batch_size)):\n",
    "        yield X[i:i+batch_size], y[i:i+batch_size]"
   ]
  },
  {
   "cell_type": "code",
   "execution_count": 12,
   "metadata": {
    "collapsed": true
   },
   "outputs": [],
   "source": [
    "# def sigmoid(X,theta):\n",
    "#     a = np.dot(X, theta)\n",
    "#     return expit(a)\n",
    "def decision_boundary(prob):\n",
    "    return 1 * (prob >= .5)\n",
    "\n",
    "def sigmoid(X, theta):\n",
    "    return 1.0 / (1 + np.exp(- np.matmul(X, theta)))"
   ]
  },
  {
   "cell_type": "code",
   "execution_count": 13,
   "metadata": {
    "collapsed": true
   },
   "outputs": [],
   "source": [
    "def thereshold(prob):\n",
    "    return 1 * (prob >= .5)"
   ]
  },
  {
   "cell_type": "code",
   "execution_count": 14,
   "metadata": {
    "collapsed": true
   },
   "outputs": [],
   "source": [
    "def cross_entropy(X, y, theta):\n",
    "    eps = 1e-9 # Prevent log(0)\n",
    "    return - np.sum(np.multiply(y, np.log(sigmoid(X, theta) + eps)) + np.multiply((1 - y), np.log(1 - sigmoid(X, theta) + eps)))"
   ]
  },
  {
   "cell_type": "code",
   "execution_count": 15,
   "metadata": {
    "collapsed": true
   },
   "outputs": [],
   "source": [
    "def gradient(X, y, theta):\n",
    "    N = X.shape[0]\n",
    "    val = np.matmul(X.T, sigmoid(X, theta) - y) / N\n",
    "    return val"
   ]
  },
  {
   "cell_type": "code",
   "execution_count": 16,
   "metadata": {
    "collapsed": true
   },
   "outputs": [],
   "source": [
    "def hessian(X, y, theta):\n",
    "    sig = sigmoid(X, theta)\n",
    "    R = np.diag(sig * (1 - sig))\n",
    "    temp = np.matmul(X.T,R)\n",
    "    hess = np.matmul(temp, X)\n",
    "#     print(hess, hess.shape)\n",
    "    return hess\n"
   ]
  },
  {
   "cell_type": "code",
   "execution_count": 17,
   "metadata": {
    "collapsed": true
   },
   "outputs": [],
   "source": [
    "# create sub-dataset\n",
    "def create_sub_dataset(X_train, y_train, subset_idxs):\n",
    "    mask = (y_train == subset_idxs[0])\n",
    "    mask1 = (y_train == subset_idxs[1])\n",
    "    train_length = mask.sum()\n",
    "    X_train_true = X_train[mask]\n",
    "    y_train_true = y_train[mask]\n",
    "    X_train_false = X_train[mask1]\n",
    "    y_train_false = y_train[mask1]\n",
    "    # random choose negative sample\n",
    "#     false_idx = np.random.choice(len(X_train_false),train_length, replace=False)\n",
    "#     X_train_false = X_train_false[false_idx]\n",
    "#     y_train_false = y_train_false[false_idx]\n",
    "    # merge and shuffle\n",
    "    X_train = np.concatenate((X_train_true, X_train_false),axis=0)\n",
    "    y_train = np.concatenate((y_train_true, y_train_false),axis=0)\n",
    "    randnum = np.random.randint(0,100)\n",
    "    np.random.seed(randnum)\n",
    "    np.random.shuffle(X_train)\n",
    "    np.random.seed(randnum)\n",
    "    np.random.shuffle(y_train)\n",
    "    mask = (y_train == subset_idxs[0])\n",
    "    temp = np.zeros_like(y_train)\n",
    "    temp[mask] = 1\n",
    "    y_train = temp\n",
    "    \n",
    "    return X_train, y_train\n",
    "    \n",
    "    \n",
    "# y_train_subset = np.zeros_like(y_train)\n",
    "# y_train_subset[mask] = 1\n",
    "# mask = (y_val == subset_idx)\n",
    "# y_val_subset = np.zeros_like(y_val)\n",
    "# y_val_subset[mask] = 1\n",
    "# mask = (y_test == subset_idx)\n",
    "# y_test_subset = np.zeros_like(y_test)\n",
    "# y_test_subset[mask] = 1"
   ]
  },
  {
   "cell_type": "code",
   "execution_count": 18,
   "metadata": {
    "collapsed": true
   },
   "outputs": [],
   "source": [
    "def test(classifier, x_test, y_test):\n",
    "    y_pred = decision_boundary(sigmoid(x_test, classifier))\n",
    "    \n",
    "    # Create confusion matrix.\n",
    "    cm = np.zeros((2, 2), dtype=int)\n",
    "    np.add.at(cm, [y_test, y_pred], 1)\n",
    "\n",
    "    print(\"== Confusion Matrix ==\")\n",
    "    print(cm)\n",
    "    print(\"== Accuracy ==\")\n",
    "    print((y_test == y_pred).sum()/len(y_pred))"
   ]
  },
  {
   "cell_type": "code",
   "execution_count": 19,
   "metadata": {},
   "outputs": [
    {
     "name": "stdout",
     "output_type": "stream",
     "text": [
      "12000\n",
      "== Confusion Matrix ==\n",
      "[[502 498]\n",
      " [ 30 970]]\n",
      "== Accuracy ==\n",
      "0.736\n",
      "epoch: 0, empirical loss: 3.289523032906747\n",
      "12000\n",
      "== Confusion Matrix ==\n",
      "[[712 288]\n",
      " [107 893]]\n",
      "== Accuracy ==\n",
      "0.8025\n",
      "epoch: 1, empirical loss: 1.2329517910973242\n",
      "12000\n",
      "== Confusion Matrix ==\n",
      "[[782 218]\n",
      " [100 900]]\n",
      "== Accuracy ==\n",
      "0.841\n",
      "epoch: 2, empirical loss: 0.6164349822431388\n",
      "12000\n",
      "== Confusion Matrix ==\n",
      "[[811 189]\n",
      " [ 81 919]]\n",
      "== Accuracy ==\n",
      "0.865\n",
      "epoch: 3, empirical loss: 0.461685843634903\n",
      "12000\n",
      "== Confusion Matrix ==\n",
      "[[838 162]\n",
      " [ 70 930]]\n",
      "== Accuracy ==\n",
      "0.884\n",
      "epoch: 4, empirical loss: 0.3683737069350141\n",
      "12000\n",
      "== Confusion Matrix ==\n",
      "[[865 135]\n",
      " [ 66 934]]\n",
      "== Accuracy ==\n",
      "0.8995\n",
      "epoch: 5, empirical loss: 0.3066125238257473\n",
      "12000\n",
      "== Confusion Matrix ==\n",
      "[[883 117]\n",
      " [ 59 941]]\n",
      "== Accuracy ==\n",
      "0.912\n",
      "epoch: 6, empirical loss: 0.2631873512118238\n",
      "12000\n",
      "== Confusion Matrix ==\n",
      "[[900 100]\n",
      " [ 54 946]]\n",
      "== Accuracy ==\n",
      "0.923\n",
      "epoch: 7, empirical loss: 0.23124995744237012\n",
      "12000\n",
      "== Confusion Matrix ==\n",
      "[[913  87]\n",
      " [ 52 948]]\n",
      "== Accuracy ==\n",
      "0.9305\n",
      "epoch: 8, empirical loss: 0.2069221211171587\n",
      "12000\n",
      "== Confusion Matrix ==\n",
      "[[924  76]\n",
      " [ 47 953]]\n",
      "== Accuracy ==\n",
      "0.9385\n",
      "epoch: 9, empirical loss: 0.18784516583646474\n"
     ]
    },
    {
     "name": "stderr",
     "output_type": "stream",
     "text": [
      "D:\\Anaconda\\lib\\site-packages\\ipykernel_launcher.py:6: FutureWarning: Using a non-tuple sequence for multidimensional indexing is deprecated; use `arr[tuple(seq)]` instead of `arr[seq]`. In the future this will be interpreted as an array index, `arr[np.array(seq)]`, which will result either in an error or a different result.\n",
      "  \n"
     ]
    }
   ],
   "source": [
    "# first order method \n",
    "\n",
    "X_train, y_train = create_sub_dataset(X_train, y_train, [3,5])\n",
    "X_test, y_test = create_sub_dataset(X_test, y_test, [3,5])\n",
    "\n",
    "theta = np.random.normal(0,1,X_train.shape[1]) # 785 x 1 initialize\n",
    "# start training\n",
    "lr = 0.5\n",
    "epochs = 10\n",
    "for epoch in range(epochs):\n",
    "    empirical_loss = 0\n",
    "    count = 0\n",
    "    train_loader = data_loader(X_train, y_train, 12000)\n",
    "\n",
    "    for X, y in train_loader:\n",
    "        loss = cross_entropy(X, y, theta)\n",
    "        grad = gradient(X, y, theta)\n",
    "#         hess = hessian(X, y, theta)\n",
    "        theta -= lr*grad\n",
    "        empirical_loss += loss\n",
    "        count += len(y)\n",
    "\n",
    "    test(theta, X_test, y_test)    \n",
    "    empirical_loss /= count\n",
    "    print(\"epoch: {}, empirical loss: {}\".format(epoch,empirical_loss))"
   ]
  },
  {
   "cell_type": "code",
   "execution_count": 20,
   "metadata": {},
   "outputs": [
    {
     "name": "stdout",
     "output_type": "stream",
     "text": [
      "== Confusion Matrix ==\n",
      "[[924  76]\n",
      " [ 47 953]]\n",
      "== Accuracy ==\n",
      "0.9385\n"
     ]
    },
    {
     "name": "stderr",
     "output_type": "stream",
     "text": [
      "D:\\Anaconda\\lib\\site-packages\\ipykernel_launcher.py:6: FutureWarning: Using a non-tuple sequence for multidimensional indexing is deprecated; use `arr[tuple(seq)]` instead of `arr[seq]`. In the future this will be interpreted as an array index, `arr[np.array(seq)]`, which will result either in an error or a different result.\n",
      "  \n"
     ]
    }
   ],
   "source": [
    "test(theta, X_test, y_test)"
   ]
  },
  {
   "cell_type": "code",
   "execution_count": 43,
   "metadata": {},
   "outputs": [
    {
     "name": "stdout",
     "output_type": "stream",
     "text": [
      "85\n"
     ]
    },
    {
     "name": "stderr",
     "output_type": "stream",
     "text": [
      "D:\\Anaconda\\lib\\site-packages\\ipykernel_launcher.py:8: RuntimeWarning: overflow encountered in exp\n",
      "  \n",
      "D:\\Anaconda\\lib\\site-packages\\ipykernel_launcher.py:6: FutureWarning: Using a non-tuple sequence for multidimensional indexing is deprecated; use `arr[tuple(seq)]` instead of `arr[seq]`. In the future this will be interpreted as an array index, `arr[np.array(seq)]`, which will result either in an error or a different result.\n",
      "  \n"
     ]
    },
    {
     "name": "stdout",
     "output_type": "stream",
     "text": [
      "== Confusion Matrix ==\n",
      "[[651 349]\n",
      " [952  48]]\n",
      "== Accuracy ==\n",
      "0.3495\n",
      "epoch: 0, empirical loss: 6.1401923022810125\n",
      "== Confusion Matrix ==\n",
      "[[651 349]\n",
      " [952  48]]\n",
      "== Accuracy ==\n",
      "0.3495\n",
      "epoch: 1, empirical loss: 6.09887633429575\n",
      "== Confusion Matrix ==\n",
      "[[651 349]\n",
      " [952  48]]\n",
      "== Accuracy ==\n",
      "0.3495\n",
      "epoch: 2, empirical loss: 6.05099207459729\n",
      "== Confusion Matrix ==\n",
      "[[651 349]\n",
      " [952  48]]\n",
      "== Accuracy ==\n",
      "0.3495\n",
      "epoch: 3, empirical loss: 6.0041411221852785\n",
      "== Confusion Matrix ==\n",
      "[[651 349]\n",
      " [952  48]]\n",
      "== Accuracy ==\n",
      "0.3495\n",
      "epoch: 4, empirical loss: 5.958299629784618\n",
      "== Confusion Matrix ==\n",
      "[[651 349]\n",
      " [952  48]]\n",
      "== Accuracy ==\n",
      "0.3495\n",
      "epoch: 5, empirical loss: 5.91344368318633\n",
      "== Confusion Matrix ==\n",
      "[[652 348]\n",
      " [952  48]]\n",
      "== Accuracy ==\n",
      "0.35\n",
      "epoch: 6, empirical loss: 5.869549354703404\n",
      "== Confusion Matrix ==\n",
      "[[652 348]\n",
      " [953  47]]\n",
      "== Accuracy ==\n",
      "0.3495\n",
      "epoch: 7, empirical loss: 5.826592726630285\n",
      "== Confusion Matrix ==\n",
      "[[652 348]\n",
      " [953  47]]\n",
      "== Accuracy ==\n",
      "0.3495\n",
      "epoch: 8, empirical loss: 5.784549930434686\n",
      "== Confusion Matrix ==\n",
      "[[652 348]\n",
      " [953  47]]\n",
      "== Accuracy ==\n",
      "0.3495\n",
      "epoch: 9, empirical loss: 5.743397224494055\n",
      "== Confusion Matrix ==\n",
      "[[653 347]\n",
      " [953  47]]\n",
      "== Accuracy ==\n",
      "0.35\n",
      "epoch: 10, empirical loss: 5.703110988957652\n",
      "== Confusion Matrix ==\n",
      "[[654 346]\n",
      " [952  48]]\n",
      "== Accuracy ==\n",
      "0.351\n",
      "epoch: 11, empirical loss: 5.663667746116874\n",
      "== Confusion Matrix ==\n",
      "[[654 346]\n",
      " [952  48]]\n",
      "== Accuracy ==\n",
      "0.351\n",
      "epoch: 12, empirical loss: 5.625044258097232\n",
      "== Confusion Matrix ==\n",
      "[[655 345]\n",
      " [952  48]]\n",
      "== Accuracy ==\n",
      "0.3515\n",
      "epoch: 13, empirical loss: 5.587217529307801\n",
      "== Confusion Matrix ==\n",
      "[[655 345]\n",
      " [953  47]]\n",
      "== Accuracy ==\n",
      "0.351\n",
      "epoch: 14, empirical loss: 5.550164918053219\n",
      "== Confusion Matrix ==\n",
      "[[656 344]\n",
      " [953  47]]\n",
      "== Accuracy ==\n",
      "0.3515\n",
      "epoch: 15, empirical loss: 5.513864286369797\n",
      "== Confusion Matrix ==\n",
      "[[656 344]\n",
      " [953  47]]\n",
      "== Accuracy ==\n",
      "0.3515\n",
      "epoch: 16, empirical loss: 5.478294038868895\n",
      "== Confusion Matrix ==\n",
      "[[656 344]\n",
      " [954  46]]\n",
      "== Accuracy ==\n",
      "0.351\n",
      "epoch: 17, empirical loss: 5.443433198068078\n",
      "== Confusion Matrix ==\n",
      "[[657 343]\n",
      " [954  46]]\n",
      "== Accuracy ==\n",
      "0.3515\n",
      "epoch: 18, empirical loss: 5.409261458819769\n",
      "== Confusion Matrix ==\n",
      "[[657 343]\n",
      " [954  46]]\n",
      "== Accuracy ==\n",
      "0.3515\n",
      "epoch: 19, empirical loss: 5.375759176049469\n",
      "== Confusion Matrix ==\n",
      "[[658 342]\n",
      " [955  45]]\n",
      "== Accuracy ==\n",
      "0.3515\n",
      "epoch: 20, empirical loss: 5.3429073440918\n",
      "== Confusion Matrix ==\n",
      "[[658 342]\n",
      " [955  45]]\n",
      "== Accuracy ==\n",
      "0.3515\n",
      "epoch: 21, empirical loss: 5.310687607853392\n",
      "== Confusion Matrix ==\n",
      "[[658 342]\n",
      " [955  45]]\n",
      "== Accuracy ==\n",
      "0.3515\n",
      "epoch: 22, empirical loss: 5.27908223139682\n",
      "== Confusion Matrix ==\n",
      "[[658 342]\n",
      " [955  45]]\n",
      "== Accuracy ==\n",
      "0.3515\n",
      "epoch: 23, empirical loss: 5.248074100497899\n",
      "== Confusion Matrix ==\n",
      "[[659 341]\n",
      " [955  45]]\n",
      "== Accuracy ==\n",
      "0.352\n",
      "epoch: 24, empirical loss: 5.217646682865803\n",
      "== Confusion Matrix ==\n",
      "[[659 341]\n",
      " [955  45]]\n",
      "== Accuracy ==\n",
      "0.352\n",
      "epoch: 25, empirical loss: 5.1877840147192344\n",
      "== Confusion Matrix ==\n",
      "[[659 341]\n",
      " [955  45]]\n",
      "== Accuracy ==\n",
      "0.352\n",
      "epoch: 26, empirical loss: 5.158470688807539\n",
      "== Confusion Matrix ==\n",
      "[[659 341]\n",
      " [955  45]]\n",
      "== Accuracy ==\n",
      "0.352\n",
      "epoch: 27, empirical loss: 5.129691852868543\n",
      "== Confusion Matrix ==\n",
      "[[659 341]\n",
      " [955  45]]\n",
      "== Accuracy ==\n",
      "0.352\n",
      "epoch: 28, empirical loss: 5.101433175722723\n",
      "== Confusion Matrix ==\n",
      "[[658 342]\n",
      " [955  45]]\n",
      "== Accuracy ==\n",
      "0.3515\n",
      "epoch: 29, empirical loss: 5.073680854916388\n",
      "== Confusion Matrix ==\n",
      "[[658 342]\n",
      " [956  44]]\n",
      "== Accuracy ==\n",
      "0.351\n",
      "epoch: 30, empirical loss: 5.046421586856001\n",
      "== Confusion Matrix ==\n",
      "[[657 343]\n",
      " [956  44]]\n",
      "== Accuracy ==\n",
      "0.3505\n",
      "epoch: 31, empirical loss: 5.019642582894114\n",
      "== Confusion Matrix ==\n",
      "[[657 343]\n",
      " [955  45]]\n",
      "== Accuracy ==\n",
      "0.351\n",
      "epoch: 32, empirical loss: 4.993331552026914\n",
      "== Confusion Matrix ==\n",
      "[[657 343]\n",
      " [955  45]]\n",
      "== Accuracy ==\n",
      "0.351\n",
      "epoch: 33, empirical loss: 4.967476656885302\n",
      "== Confusion Matrix ==\n",
      "[[658 342]\n",
      " [955  45]]\n",
      "== Accuracy ==\n",
      "0.3515\n",
      "epoch: 34, empirical loss: 4.942066451093903\n",
      "== Confusion Matrix ==\n",
      "[[658 342]\n",
      " [955  45]]\n",
      "== Accuracy ==\n",
      "0.3515\n",
      "epoch: 35, empirical loss: 4.917089693751984\n",
      "== Confusion Matrix ==\n",
      "[[657 343]\n",
      " [954  46]]\n",
      "== Accuracy ==\n",
      "0.3515\n",
      "epoch: 36, empirical loss: 4.8925351371666235\n",
      "== Confusion Matrix ==\n",
      "[[657 343]\n",
      " [954  46]]\n",
      "== Accuracy ==\n",
      "0.3515\n",
      "epoch: 37, empirical loss: 4.868391244599117\n",
      "== Confusion Matrix ==\n",
      "[[658 342]\n",
      " [953  47]]\n",
      "== Accuracy ==\n",
      "0.3525\n",
      "epoch: 38, empirical loss: 4.8446460898605626\n",
      "== Confusion Matrix ==\n",
      "[[659 341]\n",
      " [953  47]]\n",
      "== Accuracy ==\n",
      "0.353\n",
      "epoch: 39, empirical loss: 4.821287662460248\n",
      "== Confusion Matrix ==\n",
      "[[659 341]\n",
      " [953  47]]\n",
      "== Accuracy ==\n",
      "0.353\n",
      "epoch: 40, empirical loss: 4.798304360242028\n",
      "== Confusion Matrix ==\n",
      "[[658 342]\n",
      " [953  47]]\n",
      "== Accuracy ==\n",
      "0.3525\n",
      "epoch: 41, empirical loss: 4.775685466297773\n",
      "== Confusion Matrix ==\n",
      "[[658 342]\n",
      " [953  47]]\n",
      "== Accuracy ==\n",
      "0.3525\n",
      "epoch: 42, empirical loss: 4.7534212397498115\n",
      "== Confusion Matrix ==\n",
      "[[658 342]\n",
      " [953  47]]\n",
      "== Accuracy ==\n",
      "0.3525\n",
      "epoch: 43, empirical loss: 4.731502856749833\n",
      "== Confusion Matrix ==\n",
      "[[659 341]\n",
      " [953  47]]\n",
      "== Accuracy ==\n",
      "0.353\n",
      "epoch: 44, empirical loss: 4.709922068346896\n",
      "== Confusion Matrix ==\n",
      "[[661 339]\n",
      " [953  47]]\n",
      "== Accuracy ==\n",
      "0.354\n",
      "epoch: 45, empirical loss: 4.688671018263537\n",
      "== Confusion Matrix ==\n",
      "[[661 339]\n",
      " [953  47]]\n",
      "== Accuracy ==\n",
      "0.354\n",
      "epoch: 46, empirical loss: 4.667742062858378\n",
      "== Confusion Matrix ==\n",
      "[[661 339]\n",
      " [953  47]]\n",
      "== Accuracy ==\n",
      "0.354\n",
      "epoch: 47, empirical loss: 4.647127692180783\n",
      "== Confusion Matrix ==\n",
      "[[661 339]\n",
      " [952  48]]\n",
      "== Accuracy ==\n",
      "0.3545\n",
      "epoch: 48, empirical loss: 4.6268205284607475\n",
      "== Confusion Matrix ==\n",
      "[[661 339]\n",
      " [951  49]]\n",
      "== Accuracy ==\n",
      "0.355\n",
      "epoch: 49, empirical loss: 4.606813326240001\n",
      "== Confusion Matrix ==\n",
      "[[660 340]\n",
      " [951  49]]\n",
      "== Accuracy ==\n",
      "0.3545\n",
      "epoch: 50, empirical loss: 4.587099003018824\n",
      "== Confusion Matrix ==\n",
      "[[660 340]\n",
      " [951  49]]\n",
      "== Accuracy ==\n",
      "0.3545\n",
      "epoch: 51, empirical loss: 4.5676706208983235\n",
      "== Confusion Matrix ==\n",
      "[[660 340]\n",
      " [951  49]]\n",
      "== Accuracy ==\n",
      "0.3545\n",
      "epoch: 52, empirical loss: 4.548521430367959\n",
      "== Confusion Matrix ==\n",
      "[[660 340]\n",
      " [950  50]]\n",
      "== Accuracy ==\n",
      "0.355\n",
      "epoch: 53, empirical loss: 4.529644858088211\n",
      "== Confusion Matrix ==\n",
      "[[660 340]\n",
      " [950  50]]\n",
      "== Accuracy ==\n",
      "0.355\n",
      "epoch: 54, empirical loss: 4.511034514752652\n",
      "== Confusion Matrix ==\n",
      "[[660 340]\n",
      " [950  50]]\n",
      "== Accuracy ==\n",
      "0.355\n",
      "epoch: 55, empirical loss: 4.492684173161318\n",
      "== Confusion Matrix ==\n",
      "[[661 339]\n",
      " [950  50]]\n",
      "== Accuracy ==\n",
      "0.3555\n",
      "epoch: 56, empirical loss: 4.474587772648772\n",
      "== Confusion Matrix ==\n",
      "[[661 339]\n",
      " [950  50]]\n",
      "== Accuracy ==\n",
      "0.3555\n",
      "epoch: 57, empirical loss: 4.456739414519321\n",
      "== Confusion Matrix ==\n",
      "[[661 339]\n",
      " [950  50]]\n",
      "== Accuracy ==\n",
      "0.3555\n",
      "epoch: 58, empirical loss: 4.4391333476911\n",
      "== Confusion Matrix ==\n",
      "[[661 339]\n",
      " [950  50]]\n",
      "== Accuracy ==\n",
      "0.3555\n",
      "epoch: 59, empirical loss: 4.421763958723083\n",
      "== Confusion Matrix ==\n",
      "[[661 339]\n",
      " [950  50]]\n",
      "== Accuracy ==\n",
      "0.3555\n",
      "epoch: 60, empirical loss: 4.404625771758265\n",
      "== Confusion Matrix ==\n",
      "[[661 339]\n",
      " [950  50]]\n",
      "== Accuracy ==\n",
      "0.3555\n",
      "epoch: 61, empirical loss: 4.387713450808382\n",
      "== Confusion Matrix ==\n",
      "[[661 339]\n",
      " [949  51]]\n",
      "== Accuracy ==\n",
      "0.356\n",
      "epoch: 62, empirical loss: 4.371021788508352\n"
     ]
    },
    {
     "ename": "KeyboardInterrupt",
     "evalue": "",
     "output_type": "error",
     "traceback": [
      "\u001b[1;31m---------------------------------------------------------------------------\u001b[0m",
      "\u001b[1;31mKeyboardInterrupt\u001b[0m                         Traceback (most recent call last)",
      "\u001b[1;32m<ipython-input-43-a162a0c6a473>\u001b[0m in \u001b[0;36m<module>\u001b[1;34m()\u001b[0m\n\u001b[0;32m     13\u001b[0m         \u001b[0mloss\u001b[0m \u001b[1;33m=\u001b[0m \u001b[0mcross_entropy\u001b[0m\u001b[1;33m(\u001b[0m\u001b[0mX\u001b[0m\u001b[1;33m,\u001b[0m \u001b[0my\u001b[0m\u001b[1;33m,\u001b[0m \u001b[0mtheta\u001b[0m\u001b[1;33m)\u001b[0m\u001b[1;33m\u001b[0m\u001b[0m\n\u001b[0;32m     14\u001b[0m         \u001b[0mgrad\u001b[0m \u001b[1;33m=\u001b[0m \u001b[0mgradient\u001b[0m\u001b[1;33m(\u001b[0m\u001b[0mX\u001b[0m\u001b[1;33m,\u001b[0m \u001b[0my\u001b[0m\u001b[1;33m,\u001b[0m \u001b[0mtheta\u001b[0m\u001b[1;33m)\u001b[0m\u001b[1;33m\u001b[0m\u001b[0m\n\u001b[1;32m---> 15\u001b[1;33m         \u001b[0mhess\u001b[0m \u001b[1;33m=\u001b[0m \u001b[0mhessian\u001b[0m\u001b[1;33m(\u001b[0m\u001b[0mX\u001b[0m\u001b[1;33m,\u001b[0m \u001b[0my\u001b[0m\u001b[1;33m,\u001b[0m \u001b[0mtheta\u001b[0m\u001b[1;33m)\u001b[0m\u001b[1;33m\u001b[0m\u001b[0m\n\u001b[0m\u001b[0;32m     16\u001b[0m         \u001b[1;32mtry\u001b[0m\u001b[1;33m:\u001b[0m\u001b[1;33m\u001b[0m\u001b[0m\n\u001b[0;32m     17\u001b[0m             \u001b[0mtheta\u001b[0m \u001b[1;33m-=\u001b[0m \u001b[0mnp\u001b[0m\u001b[1;33m.\u001b[0m\u001b[0mmatmul\u001b[0m\u001b[1;33m(\u001b[0m\u001b[0minv\u001b[0m\u001b[1;33m(\u001b[0m\u001b[0mhess\u001b[0m\u001b[1;33m)\u001b[0m\u001b[1;33m,\u001b[0m\u001b[0mgrad\u001b[0m\u001b[1;33m)\u001b[0m\u001b[1;33m\u001b[0m\u001b[0m\n",
      "\u001b[1;32m<ipython-input-16-7bbb0a4179a1>\u001b[0m in \u001b[0;36mhessian\u001b[1;34m(X, y, theta)\u001b[0m\n\u001b[0;32m      2\u001b[0m     \u001b[0msig\u001b[0m \u001b[1;33m=\u001b[0m \u001b[0msigmoid\u001b[0m\u001b[1;33m(\u001b[0m\u001b[0mX\u001b[0m\u001b[1;33m,\u001b[0m \u001b[0mtheta\u001b[0m\u001b[1;33m)\u001b[0m\u001b[1;33m\u001b[0m\u001b[0m\n\u001b[0;32m      3\u001b[0m     \u001b[0mR\u001b[0m \u001b[1;33m=\u001b[0m \u001b[0mnp\u001b[0m\u001b[1;33m.\u001b[0m\u001b[0mdiag\u001b[0m\u001b[1;33m(\u001b[0m\u001b[0msig\u001b[0m \u001b[1;33m*\u001b[0m \u001b[1;33m(\u001b[0m\u001b[1;36m1\u001b[0m \u001b[1;33m-\u001b[0m \u001b[0msig\u001b[0m\u001b[1;33m)\u001b[0m\u001b[1;33m)\u001b[0m\u001b[1;33m\u001b[0m\u001b[0m\n\u001b[1;32m----> 4\u001b[1;33m     \u001b[0mtemp\u001b[0m \u001b[1;33m=\u001b[0m \u001b[0mnp\u001b[0m\u001b[1;33m.\u001b[0m\u001b[0mmatmul\u001b[0m\u001b[1;33m(\u001b[0m\u001b[0mX\u001b[0m\u001b[1;33m.\u001b[0m\u001b[0mT\u001b[0m\u001b[1;33m,\u001b[0m\u001b[0mR\u001b[0m\u001b[1;33m)\u001b[0m\u001b[1;33m\u001b[0m\u001b[0m\n\u001b[0m\u001b[0;32m      5\u001b[0m     \u001b[0mhess\u001b[0m \u001b[1;33m=\u001b[0m \u001b[0mnp\u001b[0m\u001b[1;33m.\u001b[0m\u001b[0mmatmul\u001b[0m\u001b[1;33m(\u001b[0m\u001b[0mtemp\u001b[0m\u001b[1;33m,\u001b[0m \u001b[0mX\u001b[0m\u001b[1;33m)\u001b[0m\u001b[1;33m\u001b[0m\u001b[0m\n\u001b[0;32m      6\u001b[0m \u001b[1;31m#     print(hess, hess.shape)\u001b[0m\u001b[1;33m\u001b[0m\u001b[1;33m\u001b[0m\u001b[0m\n",
      "\u001b[1;31mKeyboardInterrupt\u001b[0m: "
     ]
    }
   ],
   "source": [
    "# second order method \n",
    "randnum = np.random.randint(0,100)\n",
    "np.random.seed(randnum)\n",
    "print(randnum)\n",
    "theta = np.random.normal(0,1,X_train.shape[1]) # 785 x 1 initialize\n",
    "# start training\n",
    "epochs = 100\n",
    "for epoch in range(epochs):\n",
    "    empirical_loss = 0\n",
    "    count = 0\n",
    "    train_loader = data_loader(X_train, y_train, 12000)\n",
    "\n",
    "    for X, y in train_loader:\n",
    "        loss = cross_entropy(X, y, theta)\n",
    "        grad = gradient(X, y, theta)\n",
    "        hess = hessian(X, y, theta)\n",
    "        try:\n",
    "            theta -= np.matmul(inv(hess),grad)\n",
    "        except:\n",
    "            theta -= np.matmul(pinv(hess),grad)\n",
    "\n",
    "        empirical_loss += loss\n",
    "        count += len(y)\n",
    "\n",
    "    test(theta, X_test, y_test)    \n",
    "    empirical_loss /= count\n",
    "    print(\"epoch: {}, empirical loss: {}\".format(epoch,empirical_loss))"
   ]
  },
  {
   "cell_type": "code",
   "execution_count": null,
   "metadata": {
    "collapsed": true
   },
   "outputs": [],
   "source": []
  },
  {
   "cell_type": "code",
   "execution_count": null,
   "metadata": {
    "collapsed": true
   },
   "outputs": [],
   "source": []
  },
  {
   "cell_type": "code",
   "execution_count": null,
   "metadata": {
    "collapsed": true
   },
   "outputs": [],
   "source": []
  },
  {
   "cell_type": "code",
   "execution_count": null,
   "metadata": {
    "collapsed": true
   },
   "outputs": [],
   "source": []
  },
  {
   "cell_type": "code",
   "execution_count": null,
   "metadata": {
    "collapsed": true
   },
   "outputs": [],
   "source": []
  },
  {
   "cell_type": "code",
   "execution_count": null,
   "metadata": {
    "collapsed": true
   },
   "outputs": [],
   "source": []
  },
  {
   "cell_type": "code",
   "execution_count": null,
   "metadata": {
    "collapsed": true
   },
   "outputs": [],
   "source": []
  },
  {
   "cell_type": "code",
   "execution_count": null,
   "metadata": {
    "collapsed": true
   },
   "outputs": [],
   "source": []
  },
  {
   "cell_type": "code",
   "execution_count": null,
   "metadata": {
    "collapsed": true
   },
   "outputs": [],
   "source": []
  },
  {
   "cell_type": "code",
   "execution_count": null,
   "metadata": {
    "collapsed": true
   },
   "outputs": [],
   "source": []
  },
  {
   "cell_type": "code",
   "execution_count": null,
   "metadata": {
    "collapsed": true
   },
   "outputs": [],
   "source": []
  },
  {
   "cell_type": "code",
   "execution_count": null,
   "metadata": {
    "collapsed": true
   },
   "outputs": [],
   "source": []
  },
  {
   "cell_type": "code",
   "execution_count": null,
   "metadata": {
    "collapsed": true
   },
   "outputs": [],
   "source": []
  },
  {
   "cell_type": "code",
   "execution_count": null,
   "metadata": {
    "collapsed": true
   },
   "outputs": [],
   "source": []
  }
 ],
 "metadata": {
  "kernelspec": {
   "display_name": "Python 2",
   "language": "python",
   "name": "python2"
  },
  "language_info": {
   "codemirror_mode": {
    "name": "ipython",
    "version": 2
   },
   "file_extension": ".py",
   "mimetype": "text/x-python",
   "name": "python",
   "nbconvert_exporter": "python",
   "pygments_lexer": "ipython2",
   "version": "2.7.13"
  }
 },
 "nbformat": 4,
 "nbformat_minor": 1
}
